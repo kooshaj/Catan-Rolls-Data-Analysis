{
 "cells": [
  {
   "cell_type": "markdown",
   "metadata": {},
   "source": [
    "# Catan Mini Project"
   ]
  },
  {
   "cell_type": "markdown",
   "metadata": {},
   "source": [
    "As an avid catan player, I have experienced some fun times with my family and friends. One thing that intrigued me was the amount of 3's my friend kept rolling one game in which he benefited from and ended up winning (for 2-dice rolls, a 3 has a 2/36 chance of being rolled). Obviously it is possible that a single number can be rolled more often than usual, but sometimes, I really wonder if the amount of times a number is or isn't rolled is statistically significant. In this mini-project, I create a function which reads in a csv file with at least 1 column called \"player_name\" and one called \"roll\", finds the most significant number rolled (number that is rolled with the most variability) based on its probability, and determines whether or not the results are statistically significant. Without a large enough sample size, the results will not be accurate, so it is important to have over 500 rolls documented (about 9-10 games). Enjoy!"
   ]
  },
  {
   "cell_type": "markdown",
   "metadata": {},
   "source": [
    "Alternate Hypothesis: The amount of times a particular number was rolled is unusual and significant.              \n",
    "Null Hypothesis: The dice is fair and the amount of times that particular number was rolled is random."
   ]
  },
  {
   "cell_type": "code",
   "execution_count": 3,
   "metadata": {},
   "outputs": [],
   "source": [
    "import pandas as pd\n",
    "import numpy as np\n",
    "import matplotlib.pyplot as plots\n",
    "%matplotlib inline"
   ]
  },
  {
   "cell_type": "code",
   "execution_count": 4,
   "metadata": {},
   "outputs": [],
   "source": [
    "def catan_rolls_significance(csv):\n",
    "    roll_nums = [2, 3, 4, 5, 6, 7, 8, 9, 10, 11, 12]\n",
    "    catan_data = pd.read_csv(csv) # reading in csv\n",
    "    print(\"Here are the first 10 rows of the table:\")\n",
    "    print(catan_data.head(10))\n",
    "    total_turns = catan_data.shape[0] # total rolls in the game\n",
    "    grouped_data = pd.DataFrame(catan_data.groupby(\"roll\")[\"player_name\"].count()).rename(columns={\"player_name\":\"count\"})\n",
    "    rolls_list = grouped_data[\"count\"].tolist() # Grouping table by the roll and getting a list of the amount of each roll\n",
    "    two_dice_prob = [1/36, 2/36, 3/36, 4/36, 5/36, 6/36, 5/36, 4/36, 3/36, 2/36, 1/36] # probability of each number rolled\n",
    "    rolls_game = [i / total_turns for i in rolls_list] # Multiplying probability by amount of rolls: expected count per roll\n",
    "    # test statistic: Max difference of observed and predicted % of rolls / turn\n",
    "    diffs = [abs(o - p) for (o, p) in zip(rolls_game, two_dice_prob)] # subtracting empirical and predicted values\n",
    "    max_diff = max(diffs) # finding the max difference\n",
    "    min_diff = min(diffs) # finding the min difference\n",
    "    real_diff = min_diff\n",
    "    if min_diff + max_diff > 0:\n",
    "        real_diff = max_diff\n",
    "    roll = diffs.index(real_diff) + 2 # finding the roll\n",
    "    roll_odds = two_dice_prob[roll - 2] # probability of this roll\n",
    "    counts = np.array([])\n",
    "    # Simulating value for null sample difference 10000 times\n",
    "    for i in np.arange(10000):\n",
    "        sample_nums = np.random.choice(roll_nums, 10000, p = two_dice_prob) # sample distribution\n",
    "        new_count = np.count_nonzero(sample_nums == 4) / 10000 - roll_odds # sample test statistic\n",
    "        counts = np.append(counts, new_count) # appending each one to array\n",
    "    plots.hist(counts, density = True, bins = 15) # plotting histogram\n",
    "    plots.scatter(real_diff, 0, color='red', s=30) # plotting original test statistic\n",
    "    if real_diff > 0:\n",
    "        p_value = np.count_nonzero(counts >= real_diff) / 10000 # calculating p-value\n",
    "    else: \n",
    "        p_value = np.count_nonzero(counts <= real_diff) / 10000 # calculating p-value\n",
    "    if p_value < .05:\n",
    "        result = \"The data show that the results for the roll {} over the course of {} rolls are significant, with a p-value of {}. Therefore, we fail to reject the null hypothesis.\".format(roll, total_turns, p_value)\n",
    "    else:\n",
    "        result = \"The data show that the results for the roll {} over the course of {} rolls are insignificant, with a p-value of {}. Therefore, we reject the null hypothesis.\".format(roll, total_turns, p_value)\n",
    "    if total_turns < 500:\n",
    "        result += \"\\nWarning: results may not be accurate as sample size is too small!\"\n",
    "    print(result)"
   ]
  },
  {
   "cell_type": "code",
   "execution_count": 5,
   "metadata": {},
   "outputs": [
    {
     "name": "stdout",
     "output_type": "stream",
     "text": [
      "Here are the first 10 rows of the table:\n",
      "  player_name  roll  round\n",
      "0       Devin    11      1\n",
      "1        Jack     9      1\n",
      "2      Sydney     9      1\n",
      "3      Koosha    12      1\n",
      "4       Daisy    11      1\n",
      "5       Devin     7      2\n",
      "6        Jack     2      2\n",
      "7      Sydney     4      2\n",
      "8      Koosha     7      2\n",
      "9       Daisy     7      2\n",
      "The data show that the results for the roll 11 over the course of 55 rolls are significant, with a p-value of 0.0028. Therefore, we fail to reject the null hypothesis.\n",
      "Warning: results may not be accurate as sample size is too small!\n"
     ]
    },
    {
     "data": {
      "image/png": "[encoded data removed]",
      "text/plain": [
       "<Figure size 432x288 with 1 Axes>"
      ]
     },
     "metadata": {
      "needs_background": "light"
     },
     "output_type": "display_data"
    }
   ],
   "source": [
    "catan_rolls_significance(\"./catan_1.csv\")"
   ]
  }
 ],
 "metadata": {
  "kernelspec": {
   "display_name": "Python 3",
   "language": "python",
   "name": "python3"
  },
  "language_info": {
   "codemirror_mode": {
    "name": "ipython",
    "version": 3
   },
   "file_extension": ".py",
   "mimetype": "text/x-python",
   "name": "python",
   "nbconvert_exporter": "python",
   "pygments_lexer": "ipython3",
   "version": "3.7.4"
  }
 },
 "nbformat": 4,
 "nbformat_minor": 2
}
